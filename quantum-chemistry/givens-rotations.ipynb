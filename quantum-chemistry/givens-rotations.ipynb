{
 "cells": [
  {
   "cell_type": "code",
   "execution_count": 1,
   "metadata": {},
   "outputs": [
    {
     "name": "stdout",
     "output_type": "stream",
     "text": [
      "[0.        +0.j 0.57735027+0.j 0.57735027+0.j 0.        +0.j\n",
      " 0.57735027+0.j 0.        +0.j 0.        +0.j 0.        +0.j]\n"
     ]
    }
   ],
   "source": [
    "import pennylane as qml\n",
    "import numpy as np\n",
    "\n",
    "dev = qml.device('default.qubit', wires=3)\n",
    "\n",
    "@qml.qnode(dev, interface=\"autograd\")\n",
    "def circuit(x, y):\n",
    "    # prepares the reference state |100>\n",
    "    qml.BasisState(np.array([1,0,0]), wires=[0,1,2])\n",
    "    # applies the single excitations\n",
    "    qml.SingleExcitation(x, wires=[0,1])\n",
    "    qml.SingleExcitation(y, wires=[0,2])\n",
    "    return qml.state()\n",
    "\n",
    "x = -2*np.arcsin(np.sqrt(1/3))\n",
    "y = -2*np.arcsin(np.sqrt(1/2))\n",
    "print(circuit(x, y))"
   ]
  },
  {
   "cell_type": "code",
   "execution_count": 2,
   "metadata": {},
   "outputs": [
    {
     "data": {
      "text/plain": [
       "tensor([0.        +0.j, 0.57735027+0.j, 0.57735027+0.j, 0.        +0.j,\n",
       "        0.57735027+0.j, 0.        +0.j, 0.        +0.j, 0.        +0.j], requires_grad=True)"
      ]
     },
     "execution_count": 2,
     "metadata": {},
     "output_type": "execute_result"
    }
   ],
   "source": [
    "tensor_state = circuit(x, y)\n",
    "tensor_state"
   ]
  },
  {
   "cell_type": "code",
   "execution_count": 3,
   "metadata": {},
   "outputs": [
    {
     "data": {
      "text/plain": [
       "tensor([[[0.        +0.j, 0.57735027+0.j],\n",
       "         [0.57735027+0.j, 0.        +0.j]],\n",
       "\n",
       "        [[0.57735027+0.j, 0.        +0.j],\n",
       "         [0.        +0.j, 0.        +0.j]]], requires_grad=True)"
      ]
     },
     "execution_count": 3,
     "metadata": {},
     "output_type": "execute_result"
    }
   ],
   "source": [
    "tensor_state.reshape(2,2,2)"
   ]
  },
  {
   "cell_type": "markdown",
   "metadata": {},
   "source": [
    "Excitations on a fixed reference state and include only the excitations that preserve the spin orientation of the electron"
   ]
  },
  {
   "cell_type": "code",
   "execution_count": 5,
   "metadata": {},
   "outputs": [
    {
     "name": "stdout",
     "output_type": "stream",
     "text": [
      "Single excitations = [[0, 4], [1, 3], [1, 5], [2, 4]]\n",
      "Double excitations = [[0, 1, 3, 4], [0, 1, 4, 5], [1, 2, 3, 4], [1, 2, 4, 5]]\n"
     ]
    }
   ],
   "source": [
    "n_particles = 3\n",
    "n_qubits = 6\n",
    "\n",
    "singles, doubles = qml.qchem.excitations(3, 6)\n",
    "print(f\"Single excitations = {singles}\")\n",
    "print(f\"Double excitations = {doubles}\")"
   ]
  }
 ],
 "metadata": {
  "kernelspec": {
   "display_name": "quantum-dev",
   "language": "python",
   "name": "python3"
  },
  "language_info": {
   "codemirror_mode": {
    "name": "ipython",
    "version": 3
   },
   "file_extension": ".py",
   "mimetype": "text/x-python",
   "name": "python",
   "nbconvert_exporter": "python",
   "pygments_lexer": "ipython3",
   "version": "3.8.18"
  }
 },
 "nbformat": 4,
 "nbformat_minor": 2
}
