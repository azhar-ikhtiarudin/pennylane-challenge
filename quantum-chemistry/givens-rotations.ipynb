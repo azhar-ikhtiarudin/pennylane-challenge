{
 "cells": [
  {
   "cell_type": "code",
   "execution_count": 1,
   "metadata": {},
   "outputs": [
    {
     "name": "stdout",
     "output_type": "stream",
     "text": [
      "[0.        +0.j 0.57735027+0.j 0.57735027+0.j 0.        +0.j\n",
      " 0.57735027+0.j 0.        +0.j 0.        +0.j 0.        +0.j]\n"
     ]
    }
   ],
   "source": [
    "import pennylane as qml\n",
    "import numpy as np\n",
    "\n",
    "dev = qml.device('default.qubit', wires=3)\n",
    "\n",
    "@qml.qnode(dev, interface=\"autograd\")\n",
    "def circuit(x, y):\n",
    "    # prepares the reference state |100>\n",
    "    qml.BasisState(np.array([1,0,0]), wires=[0,1,2])\n",
    "    # applies the single excitations\n",
    "    qml.SingleExcitation(x, wires=[0,1])\n",
    "    qml.SingleExcitation(y, wires=[0,2])\n",
    "    return qml.state()\n",
    "\n",
    "x = -2*np.arcsin(np.sqrt(1/3))\n",
    "y = -2*np.arcsin(np.sqrt(1/2))\n",
    "print(circuit(x, y))"
   ]
  },
  {
   "cell_type": "code",
   "execution_count": 2,
   "metadata": {},
   "outputs": [
    {
     "data": {
      "text/plain": [
       "tensor([0.        +0.j, 0.57735027+0.j, 0.57735027+0.j, 0.        +0.j,\n",
       "        0.57735027+0.j, 0.        +0.j, 0.        +0.j, 0.        +0.j], requires_grad=True)"
      ]
     },
     "execution_count": 2,
     "metadata": {},
     "output_type": "execute_result"
    }
   ],
   "source": [
    "tensor_state = circuit(x, y)\n",
    "tensor_state"
   ]
  },
  {
   "cell_type": "code",
   "execution_count": 3,
   "metadata": {},
   "outputs": [
    {
     "data": {
      "text/plain": [
       "tensor([[[0.        +0.j, 0.57735027+0.j],\n",
       "         [0.57735027+0.j, 0.        +0.j]],\n",
       "\n",
       "        [[0.57735027+0.j, 0.        +0.j],\n",
       "         [0.        +0.j, 0.        +0.j]]], requires_grad=True)"
      ]
     },
     "execution_count": 3,
     "metadata": {},
     "output_type": "execute_result"
    }
   ],
   "source": [
    "tensor_state.reshape(2,2,2)"
   ]
  },
  {
   "cell_type": "markdown",
   "metadata": {},
   "source": [
    "Excitations on a fixed reference state and include only the excitations that preserve the spin orientation of the electron"
   ]
  },
  {
   "cell_type": "code",
   "execution_count": 5,
   "metadata": {},
   "outputs": [
    {
     "name": "stdout",
     "output_type": "stream",
     "text": [
      "Single excitations = [[0, 4], [1, 3], [1, 5], [2, 4]]\n",
      "Double excitations = [[0, 1, 3, 4], [0, 1, 4, 5], [1, 2, 3, 4], [1, 2, 4, 5]]\n"
     ]
    }
   ],
   "source": [
    "n_particles = 3\n",
    "n_qubits = 6\n",
    "\n",
    "singles, doubles = qml.qchem.excitations(3, 6)\n",
    "print(f\"Single excitations = {singles}\")\n",
    "print(f\"Double excitations = {doubles}\")"
   ]
  },
  {
   "cell_type": "markdown",
   "metadata": {},
   "source": [
    "### Double Excitations"
   ]
  },
  {
   "cell_type": "code",
   "execution_count": 8,
   "metadata": {},
   "outputs": [],
   "source": [
    "dev2 = qml.device('default.qubit', wires=6)\n",
    "\n",
    "@qml.qnode(dev2, interface=\"autograd\")\n",
    "def circuit2(x, y):\n",
    "    # prepares reference state\n",
    "    qml.BasisState(np.array([1,1,1,0,0,0]), wires=[0,1,2,3,4,5])\n",
    "    # apply all single excitations\n",
    "    for i, s in enumerate(singles):\n",
    "        qml.SingleExcitation(x[i], wires=s)\n",
    "    # apply all double excitations\n",
    "    for j, d in enumerate(doubles):\n",
    "        qml.DoubleExcitation(y[j], wires=d)\n",
    "    return qml.state()\n",
    "\n",
    "# random angles of rotation\n",
    "x = np.random.normal(0, 1, len(singles))\n",
    "y = np.random.normal(0, 1, len(doubles))\n",
    "\n",
    "output = circuit2(x, y)"
   ]
  },
  {
   "cell_type": "code",
   "execution_count": 9,
   "metadata": {},
   "outputs": [
    {
     "name": "stdout",
     "output_type": "stream",
     "text": [
      "['001011', '001110', '011010', '100011', '100110', '101001', '101100', '110010', '111000']\n"
     ]
    }
   ],
   "source": [
    "# constructs binary representation of states with non-zero amplitude\n",
    "states = [np.binary_repr(i, width=6) for i in range(len(output)) if output[i] != 0]\n",
    "print(states)"
   ]
  },
  {
   "cell_type": "markdown",
   "metadata": {},
   "source": [
    "### Controlled Excitation Gates"
   ]
  },
  {
   "cell_type": "markdown",
   "metadata": {},
   "source": [
    "Single-qubit gates and CNOT gates are universal for quantum computing: they can be used to implement any conceivable quantum computation"
   ]
  },
  {
   "cell_type": "code",
   "execution_count": 10,
   "metadata": {},
   "outputs": [
    {
     "name": "stdout",
     "output_type": "stream",
     "text": [
      "['000011', '001100', '011000', '100100', '110000']\n"
     ]
    }
   ],
   "source": [
    "dev = qml.device('default.qubit', wires=6)\n",
    "\n",
    "@qml.qnode(dev, interface=\"autograd\")\n",
    "def circuit3(x, y, z):\n",
    "    qml.BasisState(np.array([1, 1, 0, 0, 0, 0]), wires=[i for i in range(6)])\n",
    "    qml.DoubleExcitation(x, wires=[0, 1, 2, 3])\n",
    "    qml.DoubleExcitation(y, wires=[0, 1, 4, 5])\n",
    "    qml.SingleExcitation(z, wires=[1, 3])\n",
    "    return qml.state()\n",
    "\n",
    "x = -2 * np.arcsin(np.sqrt(1/4))\n",
    "y = -2 * np.arcsin(np.sqrt(1/3))\n",
    "z = -2 * np.arcsin(np.sqrt(1/2))\n",
    "\n",
    "output = circuit3(x, y, z)\n",
    "states = [np.binary_repr(i, width=6) for i in range(len(output)) if output[i] != 0]\n",
    "print(states)"
   ]
  },
  {
   "cell_type": "code",
   "execution_count": 11,
   "metadata": {},
   "outputs": [
    {
     "name": "stdout",
     "output_type": "stream",
     "text": [
      "['000011', '001100', '100100', '110000']\n"
     ]
    }
   ],
   "source": [
    "@qml.qnode(dev, interface=\"autograd\")\n",
    "def circuit4(x, y, z):\n",
    "    qml.BasisState(np.array([1, 1, 0, 0, 0, 0]), wires=[i for i in range(6)])\n",
    "    qml.DoubleExcitation(x, wires=[0, 1, 2, 3])\n",
    "    qml.DoubleExcitation(y, wires=[0, 1, 4, 5])\n",
    "    # single excitation controlled on qubit 0\n",
    "    qml.ctrl(qml.SingleExcitation, control=0)(z, wires=[1, 3])\n",
    "    return qml.state()\n",
    "\n",
    "output = circuit4(x, y, z)\n",
    "states = [np.binary_repr(i, width=6) for i in range(len(output)) if output[i] != 0]\n",
    "print(states)"
   ]
  }
 ],
 "metadata": {
  "kernelspec": {
   "display_name": "quantum-dev",
   "language": "python",
   "name": "python3"
  },
  "language_info": {
   "codemirror_mode": {
    "name": "ipython",
    "version": 3
   },
   "file_extension": ".py",
   "mimetype": "text/x-python",
   "name": "python",
   "nbconvert_exporter": "python",
   "pygments_lexer": "ipython3",
   "version": "3.8.18"
  }
 },
 "nbformat": 4,
 "nbformat_minor": 2
}
